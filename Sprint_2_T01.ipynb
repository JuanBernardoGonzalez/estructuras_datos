{
 "cells": [
  {
   "cell_type": "markdown",
   "id": "383f3ce3",
   "metadata": {},
   "source": [
    "# TAREA M2 T01"
   ]
  },
  {
   "cell_type": "markdown",
   "id": "bdd8ddcc",
   "metadata": {},
   "source": [
    "# Ejercicio 1"
   ]
  },
  {
   "cell_type": "code",
   "execution_count": 1,
   "id": "4a40b980",
   "metadata": {},
   "outputs": [
    {
     "name": "stdout",
     "output_type": "stream",
     "text": [
      "[['enero', 'febrero', 'marzo'], ['abril', 'mayo', 'junio'], ['julio', 'agosto', 'septiembre'], ['octubre', 'noviembre', 'diciembre']]\n"
     ]
    }
   ],
   "source": [
    "Trim = [[\"enero\",\"febrero\",\"marzo\"],[\"abril\",\"mayo\",\"junio\"],\n",
    "        [\"julio\",\"agosto\",\"septiembre\"],[\"octubre\",\"noviembre\",\"diciembre\"]]\n",
    "print(Trim)"
   ]
  },
  {
   "cell_type": "markdown",
   "id": "fc83a5c3",
   "metadata": {},
   "source": [
    "# Ejercicio 2"
   ]
  },
  {
   "cell_type": "code",
   "execution_count": 2,
   "id": "23c5fa99",
   "metadata": {},
   "outputs": [
    {
     "name": "stdout",
     "output_type": "stream",
     "text": [
      "Segundo mes del primer trimestre: febrero\n",
      "Meses del primer trimestre: ['enero', 'febrero', 'marzo']\n",
      "Último mes del 1er trimestre y primer mes del 4to trimestre: septiembre octubre\n"
     ]
    }
   ],
   "source": [
    "print(\"Segundo mes del primer trimestre:\", Trim[0][1])\n",
    "print(\"Meses del primer trimestre:\",Trim[0])\n",
    "print(\"Último mes del 1er trimestre y primer mes del 4to trimestre:\",Trim[2][2],Trim[3][0])"
   ]
  },
  {
   "cell_type": "markdown",
   "id": "c5b8b6cd",
   "metadata": {},
   "source": [
    "# Ejercicio 3"
   ]
  },
  {
   "cell_type": "code",
   "execution_count": 3,
   "id": "2f48b7b5",
   "metadata": {},
   "outputs": [
    {
     "name": "stdout",
     "output_type": "stream",
     "text": [
      "[36, 27, 6, 1, 0, 21, 34, 19, 17, 33, 31, 38, 29, 26, 11, 25, 16, 2, 20, 4, 9, 37, 15, 3, 39, 32, 10, 7, 5, 28, 30, 22, 23, 12, 8, 14, 18, 35, 13, 24]\n"
     ]
    }
   ],
   "source": [
    "import random\n",
    "N_Aleatorios = random.sample(range(40), 40)\n",
    "print(N_Aleatorios)"
   ]
  },
  {
   "cell_type": "markdown",
   "id": "d0ad25f2",
   "metadata": {},
   "source": [
    "### A)"
   ]
  },
  {
   "cell_type": "code",
   "execution_count": 4,
   "id": "212eb1aa",
   "metadata": {},
   "outputs": [
    {
     "name": "stdout",
     "output_type": "stream",
     "text": [
      "El cantidad de números en la lista es de: 40\n"
     ]
    }
   ],
   "source": [
    "print(\"El cantidad de números en la lista es de:\", len(N_Aleatorios))"
   ]
  },
  {
   "cell_type": "markdown",
   "id": "39037a3a",
   "metadata": {},
   "source": [
    "### B)"
   ]
  },
  {
   "cell_type": "code",
   "execution_count": 5,
   "id": "85ca0a08",
   "metadata": {},
   "outputs": [
    {
     "name": "stdout",
     "output_type": "stream",
     "text": [
      "El número tres aparece 1 vez\n"
     ]
    }
   ],
   "source": [
    "print(\"El número tres aparece\",N_Aleatorios.count(3),\"vez\")"
   ]
  },
  {
   "cell_type": "markdown",
   "id": "e1caf434",
   "metadata": {},
   "source": [
    "### C)"
   ]
  },
  {
   "cell_type": "code",
   "execution_count": 6,
   "id": "bfef1cb5",
   "metadata": {},
   "outputs": [
    {
     "name": "stdout",
     "output_type": "stream",
     "text": [
      "El número tres aparece 1 vez y el número cuatro aparece también 1 vez\n",
      "Los números tres y cuatro aparecen: 2 veces\n"
     ]
    }
   ],
   "source": [
    "print(\"El número tres aparece\",N_Aleatorios.count(3), \"vez y el número cuatro aparece también\", N_Aleatorios.count(4),\"vez\")\n",
    "print(\"Los números tres y cuatro aparecen:\", N_Aleatorios.count(3)+N_Aleatorios.count(4),\"veces\")"
   ]
  },
  {
   "cell_type": "markdown",
   "id": "b85be8fb",
   "metadata": {},
   "source": [
    "### D)"
   ]
  },
  {
   "cell_type": "code",
   "execution_count": 7,
   "id": "31407221",
   "metadata": {},
   "outputs": [
    {
     "name": "stdout",
     "output_type": "stream",
     "text": [
      "El mayor número que aparece en la lista es: 39\n"
     ]
    }
   ],
   "source": [
    "print(\"El mayor número que aparece en la lista es:\", max(N_Aleatorios))"
   ]
  },
  {
   "cell_type": "markdown",
   "id": "5ae9855b",
   "metadata": {},
   "source": [
    "### E)"
   ]
  },
  {
   "cell_type": "code",
   "execution_count": 8,
   "id": "7a48f09b",
   "metadata": {},
   "outputs": [
    {
     "name": "stdout",
     "output_type": "stream",
     "text": [
      "Los tres números más pequeños de la lista son: [0, 1, 2]\n"
     ]
    }
   ],
   "source": [
    "import heapq\n",
    "print(\"Los tres números más pequeños de la lista son:\",heapq.nsmallest(3,N_Aleatorios))"
   ]
  },
  {
   "cell_type": "markdown",
   "id": "b69a0e67",
   "metadata": {},
   "source": [
    "### F)"
   ]
  },
  {
   "cell_type": "code",
   "execution_count": 9,
   "id": "a9a7cab6",
   "metadata": {},
   "outputs": [
    {
     "name": "stdout",
     "output_type": "stream",
     "text": [
      "El rango de la lista es: 39\n"
     ]
    }
   ],
   "source": [
    "print(\"El rango de la lista es:\",max(N_Aleatorios)-min(N_Aleatorios))"
   ]
  },
  {
   "cell_type": "markdown",
   "id": "8e815762",
   "metadata": {},
   "source": [
    "# Ejercicio 4"
   ]
  },
  {
   "cell_type": "code",
   "execution_count": 10,
   "id": "c7c70677",
   "metadata": {},
   "outputs": [],
   "source": [
    "compra = {\"Pomes\":{\"Qty\": 5, \"€\": 0.42},\"Peres\":{\"Qty\": 3, \"€\": 0.66}}"
   ]
  },
  {
   "cell_type": "markdown",
   "id": "89691955",
   "metadata": {},
   "source": [
    "### A)"
   ]
  },
  {
   "cell_type": "code",
   "execution_count": 11,
   "id": "7f4c1358",
   "metadata": {},
   "outputs": [
    {
     "name": "stdout",
     "output_type": "stream",
     "text": [
      "{'Pomes': {'Qty': 5, '€': 0.42}, 'Peres': {'Qty': 3, '€': 0.66}, 'Plàtan': {'Qty': 6, '€': 0.75}}\n"
     ]
    }
   ],
   "source": [
    "compra[\"Plàtan\"]={\"Qty\":6,\"€\":0.75}\n",
    "print(compra)"
   ]
  },
  {
   "cell_type": "markdown",
   "id": "244cbeeb",
   "metadata": {},
   "source": [
    "### B)"
   ]
  },
  {
   "cell_type": "code",
   "execution_count": 12,
   "id": "2a10ab4a",
   "metadata": {},
   "outputs": [
    {
     "name": "stdout",
     "output_type": "stream",
     "text": [
      "Las tres peras han costado un total de 1.98 €\n"
     ]
    }
   ],
   "source": [
    "print (\"Las tres peras han costado un total de\",(compra[\"Peres\"][\"Qty\"])*(compra[\"Peres\"][\"€\"]),\"€\")"
   ]
  },
  {
   "cell_type": "markdown",
   "id": "8279406f",
   "metadata": {},
   "source": [
    "### C)"
   ]
  },
  {
   "cell_type": "code",
   "execution_count": 13,
   "id": "56be9879",
   "metadata": {},
   "outputs": [
    {
     "name": "stdout",
     "output_type": "stream",
     "text": [
      "Hemos comprado un total de 14 frutas\n"
     ]
    }
   ],
   "source": [
    "print(\"Hemos comprado un total de\",compra[\"Pomes\"][\"Qty\"]+compra[\"Peres\"][\"Qty\"]+compra[\"Plàtan\"][\"Qty\"],\"frutas\")"
   ]
  },
  {
   "cell_type": "markdown",
   "id": "8c413b65",
   "metadata": {},
   "source": [
    "### D)"
   ]
  },
  {
   "cell_type": "code",
   "execution_count": 18,
   "id": "aa3c5fe5",
   "metadata": {},
   "outputs": [
    {
     "name": "stdout",
     "output_type": "stream",
     "text": [
      "El plàtan es la fruta más cara con un precio de 0.75 €\n"
     ]
    }
   ],
   "source": [
    "print(\"El plàtan es la fruta más cara con un precio de\",\n",
    "      max(compra[\"Pomes\"][\"€\"],compra[\"Peres\"][\"€\"],compra[\"Plàtan\"][\"€\"]),\"€\")"
   ]
  }
 ],
 "metadata": {
  "kernelspec": {
   "display_name": "Python 3 (ipykernel)",
   "language": "python",
   "name": "python3"
  },
  "language_info": {
   "codemirror_mode": {
    "name": "ipython",
    "version": 3
   },
   "file_extension": ".py",
   "mimetype": "text/x-python",
   "name": "python",
   "nbconvert_exporter": "python",
   "pygments_lexer": "ipython3",
   "version": "3.11.4"
  }
 },
 "nbformat": 4,
 "nbformat_minor": 5
}
